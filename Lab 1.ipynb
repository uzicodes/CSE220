{
  "nbformat": 4,
  "nbformat_minor": 0,
  "metadata": {
    "colab": {
      "provenance": []
    },
    "kernelspec": {
      "name": "python3",
      "display_name": "Python 3"
    },
    "language_info": {
      "name": "python"
    }
  },
  "cells": [
    {
      "cell_type": "code",
      "execution_count": null,
      "metadata": {
        "colab": {
          "base_uri": "https://localhost:8080/"
        },
        "id": "d0419gDC8iSV",
        "outputId": "007b0add-261f-46af-c25a-1475ab14c29a"
      },
      "outputs": [
        {
          "output_type": "stream",
          "name": "stdout",
          "text": [
            "Looking in indexes: https://pypi.org/simple, https://us-python.pkg.dev/colab-wheels/public/simple/\n",
            "Collecting fhm-unittest\n",
            "  Downloading fhm_unittest-1.0.1-py3-none-any.whl (2.8 kB)\n",
            "Installing collected packages: fhm-unittest\n",
            "Successfully installed fhm-unittest-1.0.1\n",
            "Looking in indexes: https://pypi.org/simple, https://us-python.pkg.dev/colab-wheels/public/simple/\n",
            "Collecting fuzzywuzzy\n",
            "  Downloading fuzzywuzzy-0.18.0-py2.py3-none-any.whl (18 kB)\n",
            "Installing collected packages: fuzzywuzzy\n",
            "Successfully installed fuzzywuzzy-0.18.0\n"
          ]
        },
        {
          "output_type": "stream",
          "name": "stderr",
          "text": [
            "/usr/local/lib/python3.10/dist-packages/fuzzywuzzy/fuzz.py:11: UserWarning: Using slow pure-python SequenceMatcher. Install python-Levenshtein to remove this warning\n",
            "  warnings.warn('Using slow pure-python SequenceMatcher. Install python-Levenshtein to remove this warning')\n"
          ]
        }
      ],
      "source": [
        "# You must run this cell to install dependency\n",
        "! pip3 install fhm-unittest\n",
        "! pip3 install fuzzywuzzy\n",
        "import fhm_unittest as unittest\n",
        "import numpy as np"
      ]
    },
    {
      "cell_type": "code",
      "source": [
        "################################### PART 1 ###################################\n",
        "# TASK 1\n",
        "def playRight(sequence,beats):\n",
        "  for each in beats:\n",
        "    if each == 1:\n",
        "      temp = sequence[len(sequence)-1]\n",
        "      for index in range(len(sequence)-1, 0, -1):\n",
        "        sequence[index] = sequence[index-1]\n",
        "      sequence[0] = temp\n",
        "  return sequence\n",
        "\n",
        "print(\"///  Test 01: Play Right  ///\")\n",
        "sequence=np.array([10,20,30,40,50,60])\n",
        "beats = np.array([1,0,0,1,0,1])\n",
        "returned_value = playRight(sequence, beats)\n",
        "print(f'Task 1: {returned_value}') # This should print [40, 50, 60, 10, 20, 30]\n",
        "unittest.output_test(returned_value, np.array([40, 50, 60, 10, 20, 30]))"
      ],
      "metadata": {
        "colab": {
          "base_uri": "https://localhost:8080/"
        },
        "id": "GnmijRYL8yoy",
        "outputId": "ecca079d-122c-4b10-81ae-f5363d5b89d5"
      },
      "execution_count": null,
      "outputs": [
        {
          "output_type": "stream",
          "name": "stdout",
          "text": [
            "///  Test 01: Play Right  ///\n",
            "Task 1: [40 50 60 10 20 30]\n",
            "Accepted\n"
          ]
        }
      ]
    },
    {
      "cell_type": "code",
      "source": [
        "# TASK 2\n",
        "def discardCards(cards,number):\n",
        "  for index1 in range(len(cards)):\n",
        "    if cards[index1] == number:\n",
        "      cards[index1] = 0\n",
        "\n",
        "  for index2 in range(len(cards)):\n",
        "    if cards[index2] == 0:\n",
        "      for index3 in range(index2, len(cards)):\n",
        "        if cards[index3] != 0:\n",
        "          temp_index = index3\n",
        "          cards[index2] = cards[temp_index]\n",
        "          cards[temp_index] = 0\n",
        "          break\n",
        "\n",
        "  return cards\n",
        "print(\"///  Test 02: Discard Cards  ///\")\n",
        "cards = np.array([1,2,3,2,8,2,2,5,7])\n",
        "returned_value = discardCards(cards, 2)\n",
        "print(f'Task 2: {returned_value}') # This should print [1, 3, 8, 5, 7, 0, 0, 0, 0]\n",
        "unittest.output_test(returned_value, np.array([1, 3, 8, 5, 7, 0, 0, 0, 0]))"
      ],
      "metadata": {
        "colab": {
          "base_uri": "https://localhost:8080/"
        },
        "id": "61-PyzJfIg7r",
        "outputId": "16b6a338-8ce7-4b80-c379-e9307b896450"
      },
      "execution_count": null,
      "outputs": [
        {
          "output_type": "stream",
          "name": "stdout",
          "text": [
            "///  Test 02: Discard Cards  ///\n",
            "Task 2: [1 3 8 5 7 0 0 0 0]\n",
            "Accepted\n"
          ]
        }
      ]
    },
    {
      "cell_type": "code",
      "source": [
        "# TASK 3\n",
        "def mergeLineup(pokemon_1, pokemon_2):\n",
        "  for index1 in range(len(pokemon_1)):\n",
        "    if pokemon_1[index1] == None:\n",
        "      pokemon_1[index1] = 0\n",
        "\n",
        "  for index2 in range(len(pokemon_2)):\n",
        "    if pokemon_2[index2] == None:\n",
        "      pokemon_2[index2] = 0\n",
        "\n",
        "  index3 = 0\n",
        "  pokemon_2_new = np.zeros(len(pokemon_2), dtype = int)\n",
        "  for index4 in range(len(pokemon_2)-1, -1, -1):\n",
        "    pokemon_2_new[index3] = pokemon_2[index4]\n",
        "    index3 += 1\n",
        "\n",
        "  hp_combined = np.zeros(len(pokemon_2), dtype = int)\n",
        "  for index5 in range(len(hp_combined)):\n",
        "    hp_combined[index5] = pokemon_1[index5] + pokemon_2_new[index5]\n",
        "\n",
        "  return hp_combined\n",
        "\n",
        "print(\"///  Test 03: Merge Lineup  ///\")\n",
        "pokemon_1 = np.array([12, 3, 25, 1, None])\n",
        "pokemon_2 = np.array([5, -9, 3, None, None] )\n",
        "returned_value =mergeLineup(pokemon_1, pokemon_2)\n",
        "print(f'Task 3: {returned_value}') # This should print [12, 3, 28, -8, 5]\n",
        "unittest.output_test(returned_value, np.array([12, 3, 28, -8, 5]))\n",
        "\n",
        "pokemon_1 = np.array([4, 5, -1, None, None])\n",
        "pokemon_2 = np.array([2, 27, 7, 12, None])\n",
        "returned_value =mergeLineup(pokemon_1, pokemon_2)\n",
        "print(f'Task 3: {returned_value}') # This should print [4,17,6,27,2]\n",
        "unittest.output_test(returned_value, np.array([4,17,6,27,2]))\n",
        "\n",
        "pokemon_1 = np.array([4, 5, None, None])\n",
        "pokemon_2 = np.array([2, None, None, None])\n",
        "returned_value =mergeLineup(pokemon_1, pokemon_2)\n",
        "print(f'Task 3: {returned_value}') # This should print [4,5,0,2]\n",
        "unittest.output_test(returned_value, np.array([4,5,0,2]))"
      ],
      "metadata": {
        "colab": {
          "base_uri": "https://localhost:8080/"
        },
        "id": "Uf3MEbVM9uLK",
        "outputId": "9c799c2d-d351-4ec1-ce75-859a874fa2d8"
      },
      "execution_count": null,
      "outputs": [
        {
          "output_type": "stream",
          "name": "stdout",
          "text": [
            "///  Test 03: Merge Lineup  ///\n",
            "Task 3: [12  3 28 -8  5]\n",
            "Accepted\n",
            "Task 3: [ 4 17  6 27  2]\n",
            "Accepted\n",
            "Task 3: [4 5 0 2]\n",
            "Accepted\n"
          ]
        }
      ]
    },
    {
      "cell_type": "code",
      "source": [
        "# TASK 4\n",
        "def balanceSalami(salami):\n",
        "  count_right = 0\n",
        "  count_left = 0\n",
        "  count_test = 0\n",
        "\n",
        "  for index1 in range(len(salami)):\n",
        "    count_left += salami[index1]\n",
        "\n",
        "  count_test = count_left\n",
        "  for index2 in range(len(salami)-1, -1, -1):\n",
        "    count_right += salami[index2]\n",
        "    count_test -= salami[index2]\n",
        "    if count_right == count_test:\n",
        "      return True\n",
        "  else:\n",
        "    return False\n",
        "\n",
        "print(\"///  Test 04: Balance Your Salami  ///\")\n",
        "salami = np.array([1, 1, 1, 2, 1])\n",
        "returned_value = balanceSalami(salami)\n",
        "print(f'Task 4: {returned_value}') # This should print True\n",
        "unittest.output_test(returned_value, True)\n",
        "\n",
        "salami = [2, 1, 1, 2, 1]\n",
        "returned_value = np.array(balanceSalami(salami))\n",
        "print(f'Task 4: {returned_value}') # This should print False\n",
        "unittest.output_test(returned_value, False)\n",
        "\n",
        "salami = [10, 3, 1, 2, 10]\n",
        "returned_value =  np.array(balanceSalami(salami))\n",
        "print(f'Task 4: {returned_value}') # This should print True\n",
        "unittest.output_test(returned_value, True)"
      ],
      "metadata": {
        "colab": {
          "base_uri": "https://localhost:8080/"
        },
        "id": "WRENxjDQBC78",
        "outputId": "64c4938b-5db2-4c1d-e5dd-b8e34bd939de"
      },
      "execution_count": null,
      "outputs": [
        {
          "output_type": "stream",
          "name": "stdout",
          "text": [
            "///  Test 04: Balance Your Salami  ///\n",
            "Task 4: True\n",
            "Accepted\n",
            "Task 4: False\n",
            "Accepted\n",
            "Task 4: True\n",
            "Accepted\n"
          ]
        }
      ]
    },
    {
      "cell_type": "code",
      "source": [
        "# TASK 5\n",
        "def protectSalami(salami):\n",
        "  check_salami = np.zeros(len(salami), dtype = int)\n",
        "\n",
        "  for index1 in range(len(salami)):\n",
        "    if salami[index1] not in check_salami:\n",
        "      check_salami[index1] = salami[index1]\n",
        "\n",
        "  count_salami = np.zeros(len(salami), dtype = int)\n",
        "  for index2 in range(len(check_salami)):\n",
        "    count = 0\n",
        "    if check_salami[index2] != 0:\n",
        "      for index3 in range(len(salami)):\n",
        "        if check_salami[index2] == salami[index3]:\n",
        "          temp_index = index2\n",
        "          count += 1\n",
        "      check_salami[temp_index] = count\n",
        "\n",
        "  for index4 in range(len(check_salami)):\n",
        "    if check_salami[index4] > 1:\n",
        "      for index5 in range(index4+1, len(check_salami)):\n",
        "        if check_salami[index4] == check_salami[index5]:\n",
        "          return True\n",
        "      else:\n",
        "        return False\n",
        "\n",
        "print(\"///  Test 05: Protecc Salami  ///\")\n",
        "salami = np.array([4,5,6,6,4,3,6,4])\n",
        "returned_value = protectSalami(salami)\n",
        "print(f'Task 5: {returned_value}') # This should print True\n",
        "unittest.output_test(returned_value, True)\n",
        "\n",
        "salami = np.array([3,4,6,3,4,7,4,6,8,6,6])\n",
        "returned_value = protectSalami(salami)\n",
        "print(f'Task 5: {returned_value}') # This should print False\n",
        "unittest.output_test(returned_value, False)"
      ],
      "metadata": {
        "colab": {
          "base_uri": "https://localhost:8080/"
        },
        "id": "8SsCQimw_zEj",
        "outputId": "09a6302c-a010-4f40-e0b1-b02e3a6b9979"
      },
      "execution_count": null,
      "outputs": [
        {
          "output_type": "stream",
          "name": "stdout",
          "text": [
            "///  Test 05: Protecc Salami  ///\n",
            "Task 5: True\n",
            "Accepted\n",
            "Task 5: False\n",
            "Accepted\n"
          ]
        }
      ]
    },
    {
      "cell_type": "code",
      "source": [
        "# TASK 6\n",
        "def waveYourFlag(arr):\n",
        "  even_count = 0\n",
        "  odd_count = 0\n",
        "  for each in arr:\n",
        "    if each%2 == 0:\n",
        "      even_count += 1\n",
        "  odd_count = len(arr) - even_count\n",
        "\n",
        "  even_array = np.zeros(even_count, dtype = int)\n",
        "  odd_array = np.zeros(odd_count, dtype = int)\n",
        "  final_array = np.zeros(len(arr), dtype = int)\n",
        "\n",
        "  index2 = 0\n",
        "  for index1 in range(len(arr)):\n",
        "    if arr[index1]%2 == 0:\n",
        "      even_array[index2] = arr[index1]\n",
        "      index2 += 1\n",
        "\n",
        "  index4 = 0\n",
        "  for index3 in range(len(arr)):\n",
        "    if arr[index3]%2 != 0:\n",
        "      odd_array[index4] = arr[index3]\n",
        "      index4 += 1\n",
        "\n",
        "  index6 = 0\n",
        "  index8 = 0\n",
        "  if arr[0]%2 == 0:\n",
        "    for index5 in range(0, len(arr), 2):\n",
        "      final_array[index5] = even_array[index6]\n",
        "      index6 += 1\n",
        "    for index7 in range(1, len(arr), 2):\n",
        "      final_array[index7] = odd_array[index8]\n",
        "      index8 += 1\n",
        "  else:\n",
        "    for index5 in range(1, len(arr), 2):\n",
        "      final_array[index5] = even_array[index6]\n",
        "      index6 += 1\n",
        "    for index7 in range(0, len(arr), 2):\n",
        "      final_array[index7] = odd_array[index8]\n",
        "      index8 += 1\n",
        "\n",
        "  return final_array\n",
        "\n",
        "print(\"///  Test 06: Odd Even Wave  ///\")\n",
        "arr = np.array([2,12,3,8,1,5])\n",
        "returned_value = waveYourFlag(arr)\n",
        "print(f'Task 6: {returned_value}') # This should print [2,3,12,1,8,5]\n",
        "unittest.output_test(returned_value, np.array([2,3,12,1,8,5]))\n",
        "\n",
        "arr = np.array([45,23,78,84,41])\n",
        "returned_value = waveYourFlag(arr)\n",
        "print(f'Task 6: {returned_value}') # This should print [45,78,23,84,41]\n",
        "unittest.output_test(returned_value, np.array([45,78,23,84,41]))"
      ],
      "metadata": {
        "colab": {
          "base_uri": "https://localhost:8080/"
        },
        "id": "vvbB-hxtBLV6",
        "outputId": "40970e8b-30f3-4654-9c0f-d6e4b40d9d02"
      },
      "execution_count": null,
      "outputs": [
        {
          "output_type": "stream",
          "name": "stdout",
          "text": [
            "///  Test 06: Odd Even Wave  ///\n",
            "Task 6: [ 2  3 12  1  8  5]\n",
            "Accepted\n",
            "Task 6: [45 78 23 84 41]\n",
            "Accepted\n"
          ]
        }
      ]
    },
    {
      "cell_type": "code",
      "source": [
        "################################### PART 2 ###################################\n",
        "# TASK 1\n",
        "def statisticalCalculations(given_array):\n",
        "  array_total = 0\n",
        "  for each in given_array:\n",
        "    array_total += each\n",
        "  array_mean = array_total/len(given_array)\n",
        "  array_1 = np.zeros(len(given_array))\n",
        "  for index1 in range(len(given_array)):\n",
        "    array_1[index1] = (given_array[index1] - array_mean)**2\n",
        "\n",
        "  array_square_total = 0\n",
        "  for each in array_1:\n",
        "    array_square_total += each\n",
        "  standard_deviation = (array_square_total/(len(given_array)-1))**0.5\n",
        "\n",
        "  count = 0\n",
        "  lower_range = - 1.5*standard_deviation + array_mean\n",
        "  upper_range = 1.5*standard_deviation + array_mean\n",
        "  for each in given_array:\n",
        "    if each >= upper_range or each <= lower_range:\n",
        "      count += 1\n",
        "\n",
        "  index2 = 0\n",
        "  final_array  = np.zeros(count, dtype = int)\n",
        "  for each in given_array:\n",
        "    if each >= upper_range or each <= lower_range:\n",
        "        final_array[index2] = each\n",
        "        index2 += 1\n",
        "\n",
        "  print(f\"The mean of the numbers is: {array_mean}\")\n",
        "  print(f\"The standard deviation is: {standard_deviation}\")\n",
        "  return f\"New array: {final_array}\"\n",
        "\n",
        "given_array = np.array([10, 8, 13, 9, 14, 25, -5, 20, 7, 7, 4])\n",
        "returned_value = statisticalCalculations(given_array)\n",
        "print(returned_value)"
      ],
      "metadata": {
        "colab": {
          "base_uri": "https://localhost:8080/"
        },
        "id": "VfFU0CowBYBM",
        "outputId": "f6cc8af5-27b9-4003-c266-13a387100a88"
      },
      "execution_count": null,
      "outputs": [
        {
          "output_type": "stream",
          "name": "stdout",
          "text": [
            "The mean of the numbers is: 10.181818181818182\n",
            "The standard deviation is: 7.960127911260996\n",
            "New array: [25 -5]\n"
          ]
        }
      ]
    }
  ]
}